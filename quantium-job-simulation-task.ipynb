{
 "cells": [
  {
   "cell_type": "code",
   "execution_count": 1,
   "id": "e53f7f58",
   "metadata": {
    "_cell_guid": "b1076dfc-b9ad-4769-8c92-a6c4dae69d19",
    "_uuid": "8f2839f25d086af736a60e9eeb907d3b93b6e0e5",
    "execution": {
     "iopub.execute_input": "2024-10-09T09:22:39.029244Z",
     "iopub.status.busy": "2024-10-09T09:22:39.028732Z",
     "iopub.status.idle": "2024-10-09T09:22:52.961108Z",
     "shell.execute_reply": "2024-10-09T09:22:52.959843Z"
    },
    "papermill": {
     "duration": 13.941532,
     "end_time": "2024-10-09T09:22:52.963806",
     "exception": false,
     "start_time": "2024-10-09T09:22:39.022274",
     "status": "completed"
    },
    "tags": []
   },
   "outputs": [
    {
     "name": "stdout",
     "output_type": "stream",
     "text": [
      "Requirement already satisfied: pandas in /opt/conda/lib/python3.10/site-packages (2.2.2)\r\n",
      "Requirement already satisfied: matplotlib in /opt/conda/lib/python3.10/site-packages (3.7.5)\r\n",
      "Requirement already satisfied: seaborn in /opt/conda/lib/python3.10/site-packages (0.12.2)\r\n",
      "Requirement already satisfied: numpy>=1.22.4 in /opt/conda/lib/python3.10/site-packages (from pandas) (1.26.4)\r\n",
      "Requirement already satisfied: python-dateutil>=2.8.2 in /opt/conda/lib/python3.10/site-packages (from pandas) (2.9.0.post0)\r\n",
      "Requirement already satisfied: pytz>=2020.1 in /opt/conda/lib/python3.10/site-packages (from pandas) (2024.1)\r\n",
      "Requirement already satisfied: tzdata>=2022.7 in /opt/conda/lib/python3.10/site-packages (from pandas) (2024.1)\r\n",
      "Requirement already satisfied: contourpy>=1.0.1 in /opt/conda/lib/python3.10/site-packages (from matplotlib) (1.2.1)\r\n",
      "Requirement already satisfied: cycler>=0.10 in /opt/conda/lib/python3.10/site-packages (from matplotlib) (0.12.1)\r\n",
      "Requirement already satisfied: fonttools>=4.22.0 in /opt/conda/lib/python3.10/site-packages (from matplotlib) (4.53.0)\r\n",
      "Requirement already satisfied: kiwisolver>=1.0.1 in /opt/conda/lib/python3.10/site-packages (from matplotlib) (1.4.5)\r\n",
      "Requirement already satisfied: packaging>=20.0 in /opt/conda/lib/python3.10/site-packages (from matplotlib) (21.3)\r\n",
      "Requirement already satisfied: pillow>=6.2.0 in /opt/conda/lib/python3.10/site-packages (from matplotlib) (9.5.0)\r\n",
      "Requirement already satisfied: pyparsing>=2.3.1 in /opt/conda/lib/python3.10/site-packages (from matplotlib) (3.1.2)\r\n",
      "Requirement already satisfied: six>=1.5 in /opt/conda/lib/python3.10/site-packages (from python-dateutil>=2.8.2->pandas) (1.16.0)\r\n"
     ]
    }
   ],
   "source": [
    "!pip install pandas matplotlib seaborn\n"
   ]
  },
  {
   "cell_type": "code",
   "execution_count": 2,
   "id": "f7cf8ae0",
   "metadata": {
    "execution": {
     "iopub.execute_input": "2024-10-09T09:22:52.974822Z",
     "iopub.status.busy": "2024-10-09T09:22:52.974388Z",
     "iopub.status.idle": "2024-10-09T09:22:54.407503Z",
     "shell.execute_reply": "2024-10-09T09:22:54.406349Z"
    },
    "papermill": {
     "duration": 1.441518,
     "end_time": "2024-10-09T09:22:54.409911",
     "exception": false,
     "start_time": "2024-10-09T09:22:52.968393",
     "status": "completed"
    },
    "tags": []
   },
   "outputs": [
    {
     "name": "stdout",
     "output_type": "stream",
     "text": [
      "         DATE  STORE_NBR  LYLTY_CARD_NBR  TXN_ID  PROD_NBR  \\\n",
      "0  17-10-2018          1            1000       1         5   \n",
      "1  14-05-2019          1            1307     348        66   \n",
      "2  20-05-2019          1            1343     383        61   \n",
      "3  17-08-2018          2            2373     974        69   \n",
      "4  18-08-2018          2            2426    1038       108   \n",
      "\n",
      "                                  PROD_NAME  PROD_QTY  TOT_SALES  \n",
      "0    Natural Chip        Compny SeaSalt175g         2        6.0  \n",
      "1                  CCs Nacho Cheese    175g         3        6.3  \n",
      "2    Smiths Crinkle Cut  Chips Chicken 170g         2        2.9  \n",
      "3    Smiths Chip Thinly  S/Cream&Onion 175g         5       15.0  \n",
      "4  Kettle Tortilla ChpsHny&Jlpno Chili 150g         3       13.8  \n",
      "   LYLTY_CARD_NBR               LIFESTAGE PREMIUM_CUSTOMER\n",
      "0            1000   YOUNG SINGLES/COUPLES          Premium\n",
      "1            1002   YOUNG SINGLES/COUPLES       Mainstream\n",
      "2            1003          YOUNG FAMILIES           Budget\n",
      "3            1004   OLDER SINGLES/COUPLES       Mainstream\n",
      "4            1005  MIDAGE SINGLES/COUPLES       Mainstream\n"
     ]
    }
   ],
   "source": [
    "import pandas as pd\n",
    "\n",
    "# Load transaction data\n",
    "transaction_data = pd.read_csv('/kaggle/input/chips-company-dataset/QVI_transaction_data.csv')\n",
    "\n",
    "# Load purchase behavior data\n",
    "purchase_behavior = pd.read_csv('/kaggle/input/chips-company-dataset/QVI_purchase_behaviour.csv')\n",
    "\n",
    "# Preview the first few rows to ensure the data is loaded correctly\n",
    "print(transaction_data.head())\n",
    "print(purchase_behavior.head())\n"
   ]
  },
  {
   "cell_type": "code",
   "execution_count": 3,
   "id": "71c74238",
   "metadata": {
    "execution": {
     "iopub.execute_input": "2024-10-09T09:22:54.421081Z",
     "iopub.status.busy": "2024-10-09T09:22:54.420128Z",
     "iopub.status.idle": "2024-10-09T09:22:54.558705Z",
     "shell.execute_reply": "2024-10-09T09:22:54.557692Z"
    },
    "papermill": {
     "duration": 0.147059,
     "end_time": "2024-10-09T09:22:54.561464",
     "exception": false,
     "start_time": "2024-10-09T09:22:54.414405",
     "status": "completed"
    },
    "tags": []
   },
   "outputs": [
    {
     "name": "stdout",
     "output_type": "stream",
     "text": [
      "<class 'pandas.core.frame.DataFrame'>\n",
      "RangeIndex: 264836 entries, 0 to 264835\n",
      "Data columns (total 8 columns):\n",
      " #   Column          Non-Null Count   Dtype  \n",
      "---  ------          --------------   -----  \n",
      " 0   DATE            264836 non-null  object \n",
      " 1   STORE_NBR       264836 non-null  int64  \n",
      " 2   LYLTY_CARD_NBR  264836 non-null  int64  \n",
      " 3   TXN_ID          264836 non-null  int64  \n",
      " 4   PROD_NBR        264836 non-null  int64  \n",
      " 5   PROD_NAME       264836 non-null  object \n",
      " 6   PROD_QTY        264836 non-null  int64  \n",
      " 7   TOT_SALES       264836 non-null  float64\n",
      "dtypes: float64(1), int64(5), object(2)\n",
      "memory usage: 16.2+ MB\n",
      "None\n",
      "DATE              0\n",
      "STORE_NBR         0\n",
      "LYLTY_CARD_NBR    0\n",
      "TXN_ID            0\n",
      "PROD_NBR          0\n",
      "PROD_NAME         0\n",
      "PROD_QTY          0\n",
      "TOT_SALES         0\n",
      "dtype: int64\n",
      "          STORE_NBR  LYLTY_CARD_NBR        TXN_ID       PROD_NBR  \\\n",
      "count  264836.00000    2.648360e+05  2.648360e+05  264836.000000   \n",
      "mean      135.08011    1.355495e+05  1.351583e+05      56.583157   \n",
      "std        76.78418    8.057998e+04  7.813303e+04      32.826638   \n",
      "min         1.00000    1.000000e+03  1.000000e+00       1.000000   \n",
      "25%        70.00000    7.002100e+04  6.760150e+04      28.000000   \n",
      "50%       130.00000    1.303575e+05  1.351375e+05      56.000000   \n",
      "75%       203.00000    2.030942e+05  2.027012e+05      85.000000   \n",
      "max       272.00000    2.373711e+06  2.415841e+06     114.000000   \n",
      "\n",
      "            PROD_QTY      TOT_SALES  \n",
      "count  264836.000000  264836.000000  \n",
      "mean        1.907309       7.304200  \n",
      "std         0.643654       3.083226  \n",
      "min         1.000000       1.500000  \n",
      "25%         2.000000       5.400000  \n",
      "50%         2.000000       7.400000  \n",
      "75%         2.000000       9.200000  \n",
      "max       200.000000     650.000000  \n",
      "         DATE  STORE_NBR  LYLTY_CARD_NBR  TXN_ID  PROD_NBR  \\\n",
      "0  17-10-2018          1            1000       1         5   \n",
      "1  14-05-2019          1            1307     348        66   \n",
      "2  20-05-2019          1            1343     383        61   \n",
      "3  17-08-2018          2            2373     974        69   \n",
      "4  18-08-2018          2            2426    1038       108   \n",
      "\n",
      "                                  PROD_NAME  PROD_QTY  TOT_SALES  \n",
      "0    Natural Chip        Compny SeaSalt175g         2        6.0  \n",
      "1                  CCs Nacho Cheese    175g         3        6.3  \n",
      "2    Smiths Crinkle Cut  Chips Chicken 170g         2        2.9  \n",
      "3    Smiths Chip Thinly  S/Cream&Onion 175g         5       15.0  \n",
      "4  Kettle Tortilla ChpsHny&Jlpno Chili 150g         3       13.8  \n"
     ]
    }
   ],
   "source": [
    "# Check the structure of transaction data\n",
    "print(transaction_data.info())\n",
    "\n",
    "# Check for missing values\n",
    "print(transaction_data.isnull().sum())\n",
    "\n",
    "# Check summary statistics\n",
    "print(transaction_data.describe())\n",
    "\n",
    "# Preview the first few rows\n",
    "print(transaction_data.head())\n"
   ]
  },
  {
   "cell_type": "code",
   "execution_count": 4,
   "id": "59e8f731",
   "metadata": {
    "execution": {
     "iopub.execute_input": "2024-10-09T09:22:54.572040Z",
     "iopub.status.busy": "2024-10-09T09:22:54.571687Z",
     "iopub.status.idle": "2024-10-09T09:22:54.599199Z",
     "shell.execute_reply": "2024-10-09T09:22:54.598004Z"
    },
    "papermill": {
     "duration": 0.035597,
     "end_time": "2024-10-09T09:22:54.601575",
     "exception": false,
     "start_time": "2024-10-09T09:22:54.565978",
     "status": "completed"
    },
    "tags": []
   },
   "outputs": [
    {
     "name": "stdout",
     "output_type": "stream",
     "text": [
      "<class 'pandas.core.frame.DataFrame'>\n",
      "RangeIndex: 72637 entries, 0 to 72636\n",
      "Data columns (total 3 columns):\n",
      " #   Column            Non-Null Count  Dtype \n",
      "---  ------            --------------  ----- \n",
      " 0   LYLTY_CARD_NBR    72637 non-null  int64 \n",
      " 1   LIFESTAGE         72637 non-null  object\n",
      " 2   PREMIUM_CUSTOMER  72637 non-null  object\n",
      "dtypes: int64(1), object(2)\n",
      "memory usage: 1.7+ MB\n",
      "None\n",
      "LYLTY_CARD_NBR      0\n",
      "LIFESTAGE           0\n",
      "PREMIUM_CUSTOMER    0\n",
      "dtype: int64\n",
      "   LYLTY_CARD_NBR               LIFESTAGE PREMIUM_CUSTOMER\n",
      "0            1000   YOUNG SINGLES/COUPLES          Premium\n",
      "1            1002   YOUNG SINGLES/COUPLES       Mainstream\n",
      "2            1003          YOUNG FAMILIES           Budget\n",
      "3            1004   OLDER SINGLES/COUPLES       Mainstream\n",
      "4            1005  MIDAGE SINGLES/COUPLES       Mainstream\n"
     ]
    }
   ],
   "source": [
    "# Check the structure of purchase behavior data\n",
    "print(purchase_behavior.info())\n",
    "\n",
    "# Check for missing values\n",
    "print(purchase_behavior.isnull().sum())\n",
    "\n",
    "# Preview the first few rows\n",
    "print(purchase_behavior.head())\n"
   ]
  },
  {
   "cell_type": "code",
   "execution_count": 5,
   "id": "b556d94e",
   "metadata": {
    "execution": {
     "iopub.execute_input": "2024-10-09T09:22:54.613152Z",
     "iopub.status.busy": "2024-10-09T09:22:54.612222Z",
     "iopub.status.idle": "2024-10-09T09:22:54.676890Z",
     "shell.execute_reply": "2024-10-09T09:22:54.675758Z"
    },
    "papermill": {
     "duration": 0.073132,
     "end_time": "2024-10-09T09:22:54.679476",
     "exception": false,
     "start_time": "2024-10-09T09:22:54.606344",
     "status": "completed"
    },
    "tags": []
   },
   "outputs": [
    {
     "name": "stdout",
     "output_type": "stream",
     "text": [
      "         DATE  STORE_NBR  LYLTY_CARD_NBR  TXN_ID  PROD_NBR  \\\n",
      "0  17-10-2018          1            1000       1         5   \n",
      "1  14-05-2019          1            1307     348        66   \n",
      "2  20-05-2019          1            1343     383        61   \n",
      "3  17-08-2018          2            2373     974        69   \n",
      "4  18-08-2018          2            2426    1038       108   \n",
      "\n",
      "                                  PROD_NAME  PROD_QTY  TOT_SALES  \\\n",
      "0    Natural Chip        Compny SeaSalt175g         2        6.0   \n",
      "1                  CCs Nacho Cheese    175g         3        6.3   \n",
      "2    Smiths Crinkle Cut  Chips Chicken 170g         2        2.9   \n",
      "3    Smiths Chip Thinly  S/Cream&Onion 175g         5       15.0   \n",
      "4  Kettle Tortilla ChpsHny&Jlpno Chili 150g         3       13.8   \n",
      "\n",
      "                LIFESTAGE PREMIUM_CUSTOMER  \n",
      "0   YOUNG SINGLES/COUPLES          Premium  \n",
      "1  MIDAGE SINGLES/COUPLES           Budget  \n",
      "2  MIDAGE SINGLES/COUPLES           Budget  \n",
      "3  MIDAGE SINGLES/COUPLES           Budget  \n",
      "4  MIDAGE SINGLES/COUPLES           Budget  \n"
     ]
    }
   ],
   "source": [
    "# Merge the transaction data with the purchase behavior data on LYLTY_CARD_NBR\n",
    "merged_data = pd.merge(transaction_data, purchase_behavior, on='LYLTY_CARD_NBR', how='inner')\n",
    "\n",
    "# Preview the merged data\n",
    "print(merged_data.head())"
   ]
  },
  {
   "cell_type": "code",
   "execution_count": 6,
   "id": "525cf41c",
   "metadata": {
    "execution": {
     "iopub.execute_input": "2024-10-09T09:22:54.691131Z",
     "iopub.status.busy": "2024-10-09T09:22:54.690738Z",
     "iopub.status.idle": "2024-10-09T09:22:54.807787Z",
     "shell.execute_reply": "2024-10-09T09:22:54.805130Z"
    },
    "papermill": {
     "duration": 0.12687,
     "end_time": "2024-10-09T09:22:54.811306",
     "exception": false,
     "start_time": "2024-10-09T09:22:54.684436",
     "status": "completed"
    },
    "tags": []
   },
   "outputs": [
    {
     "name": "stdout",
     "output_type": "stream",
     "text": [
      "          STORE_NBR  LYLTY_CARD_NBR        TXN_ID       PROD_NBR  \\\n",
      "count  264836.00000    2.648360e+05  2.648360e+05  264836.000000   \n",
      "mean      135.08011    1.355495e+05  1.351583e+05      56.583157   \n",
      "std        76.78418    8.057998e+04  7.813303e+04      32.826638   \n",
      "min         1.00000    1.000000e+03  1.000000e+00       1.000000   \n",
      "25%        70.00000    7.002100e+04  6.760150e+04      28.000000   \n",
      "50%       130.00000    1.303575e+05  1.351375e+05      56.000000   \n",
      "75%       203.00000    2.030942e+05  2.027012e+05      85.000000   \n",
      "max       272.00000    2.373711e+06  2.415841e+06     114.000000   \n",
      "\n",
      "            PROD_QTY      TOT_SALES  \n",
      "count  264836.000000  264836.000000  \n",
      "mean        1.907309       7.304200  \n",
      "std         0.643654       3.083226  \n",
      "min         1.000000       1.500000  \n",
      "25%         2.000000       5.400000  \n",
      "50%         2.000000       7.400000  \n",
      "75%         2.000000       9.200000  \n",
      "max       200.000000     650.000000  \n",
      "DATE                0\n",
      "STORE_NBR           0\n",
      "LYLTY_CARD_NBR      0\n",
      "TXN_ID              0\n",
      "PROD_NBR            0\n",
      "PROD_NAME           0\n",
      "PROD_QTY            0\n",
      "TOT_SALES           0\n",
      "LIFESTAGE           0\n",
      "PREMIUM_CUSTOMER    0\n",
      "dtype: int64\n"
     ]
    }
   ],
   "source": [
    "# High-level summary of merged data\n",
    "print(merged_data.describe())\n",
    "\n",
    "# Check for missing values in merged data\n",
    "print(merged_data.isnull().sum())\n"
   ]
  },
  {
   "cell_type": "code",
   "execution_count": 7,
   "id": "42c243c9",
   "metadata": {
    "execution": {
     "iopub.execute_input": "2024-10-09T09:22:54.825471Z",
     "iopub.status.busy": "2024-10-09T09:22:54.824870Z",
     "iopub.status.idle": "2024-10-09T09:22:54.892438Z",
     "shell.execute_reply": "2024-10-09T09:22:54.891190Z"
    },
    "papermill": {
     "duration": 0.077731,
     "end_time": "2024-10-09T09:22:54.894825",
     "exception": false,
     "start_time": "2024-10-09T09:22:54.817094",
     "status": "completed"
    },
    "tags": []
   },
   "outputs": [
    {
     "name": "stdout",
     "output_type": "stream",
     "text": [
      "                 LIFESTAGE PREMIUM_CUSTOMER  TOT_SALES\n",
      "6           OLDER FAMILIES           Budget  168363.25\n",
      "19   YOUNG SINGLES/COUPLES       Mainstream  157621.60\n",
      "13                RETIREES       Mainstream  155677.05\n",
      "15          YOUNG FAMILIES           Budget  139345.85\n",
      "9    OLDER SINGLES/COUPLES           Budget  136769.80\n",
      "10   OLDER SINGLES/COUPLES       Mainstream  133393.80\n",
      "11   OLDER SINGLES/COUPLES          Premium  132263.15\n",
      "12                RETIREES           Budget  113147.80\n",
      "7           OLDER FAMILIES       Mainstream  103445.55\n",
      "14                RETIREES          Premium   97646.05\n",
      "16          YOUNG FAMILIES       Mainstream   92788.75\n",
      "1   MIDAGE SINGLES/COUPLES       Mainstream   90803.85\n",
      "17          YOUNG FAMILIES          Premium   84025.50\n",
      "8           OLDER FAMILIES          Premium   81958.40\n",
      "18   YOUNG SINGLES/COUPLES           Budget   61141.60\n",
      "2   MIDAGE SINGLES/COUPLES          Premium   58432.65\n",
      "20   YOUNG SINGLES/COUPLES          Premium   41642.10\n",
      "0   MIDAGE SINGLES/COUPLES           Budget   35514.80\n",
      "3             NEW FAMILIES           Budget   21928.45\n",
      "4             NEW FAMILIES       Mainstream   17013.90\n",
      "5             NEW FAMILIES          Premium   11491.10\n"
     ]
    }
   ],
   "source": [
    "# Group by LIFESTAGE and PREMIUM_CUSTOMER to calculate total sales\n",
    "sales_by_segment = merged_data.groupby(['LIFESTAGE', 'PREMIUM_CUSTOMER'])['TOT_SALES'].sum().reset_index()\n",
    "\n",
    "# Sort by total sales to see the most valuable segments\n",
    "sales_by_segment = sales_by_segment.sort_values(by='TOT_SALES', ascending=False)\n",
    "print(sales_by_segment)\n"
   ]
  },
  {
   "cell_type": "markdown",
   "id": "4e9c1d73",
   "metadata": {
    "papermill": {
     "duration": 0.004722,
     "end_time": "2024-10-09T09:22:54.904566",
     "exception": false,
     "start_time": "2024-10-09T09:22:54.899844",
     "status": "completed"
    },
    "tags": []
   },
   "source": [
    "Analysis & Interpretation:\n",
    "Top Spenders:\n",
    "\n",
    "Older Families (Budget) and Young Singles/Couples (Mainstream) are the top spenders, with over 150,000 in total sales.\n",
    "Retirees (Mainstream) and Young Families (Budget) also contribute significantly to total sales.\n",
    "Budget and Mainstream Customers Dominate:\n",
    "\n",
    "A significant portion of the revenue comes from Budget and Mainstream customer segments, indicating that these groups are less likely to opt for premium products.\n",
    "Premium Customers:\n",
    "\n",
    "The Premium category tends to be smaller in terms of total sales, with Retirees and Young Families contributing the most from this segment.\n",
    "This could be an opportunity to target premium customers with specialized marketing strategies.\n",
    "Strategic Recommendations Based on Insights:\n",
    "Focus on Budget and Mainstream Customers:\n",
    "\n",
    "Older Families (Budget) and Young Singles/Couples (Mainstream) are the most valuable customer segments. We should consider creating promotional campaigns that target these segments, such as discounts, loyalty rewards, or combo offers.\n",
    "Expand Premium Offerings for Young Families and Retirees:\n",
    "\n",
    "While premium customers are a smaller group, there is still significant spending among Young Families (Premium) and Retirees (Premium). Introducing exclusive high-end product lines or bundling premium products could encourage more spending within these groups.\n",
    "New Families Segment:\n",
    "\n",
    "The New Families segment, especially in the premium category, shows relatively low sales. This suggests either under-engagement or under-representation. We can develop strategies to better target this group, such as new product offerings for family events or targeted advertising."
   ]
  },
  {
   "cell_type": "code",
   "execution_count": 8,
   "id": "3ccf7361",
   "metadata": {
    "execution": {
     "iopub.execute_input": "2024-10-09T09:22:54.916693Z",
     "iopub.status.busy": "2024-10-09T09:22:54.915519Z",
     "iopub.status.idle": "2024-10-09T09:22:54.970877Z",
     "shell.execute_reply": "2024-10-09T09:22:54.969899Z"
    },
    "papermill": {
     "duration": 0.063744,
     "end_time": "2024-10-09T09:22:54.973170",
     "exception": false,
     "start_time": "2024-10-09T09:22:54.909426",
     "status": "completed"
    },
    "tags": []
   },
   "outputs": [
    {
     "name": "stdout",
     "output_type": "stream",
     "text": [
      "                 LIFESTAGE PREMIUM_CUSTOMER  TOT_SALES\n",
      "1   MIDAGE SINGLES/COUPLES       Mainstream   7.647284\n",
      "19   YOUNG SINGLES/COUPLES       Mainstream   7.558339\n",
      "14                RETIREES          Premium   7.456174\n",
      "11   OLDER SINGLES/COUPLES          Premium   7.449766\n",
      "12                RETIREES           Budget   7.443445\n",
      "9    OLDER SINGLES/COUPLES           Budget   7.430315\n",
      "8           OLDER FAMILIES          Premium   7.322945\n",
      "4             NEW FAMILIES       Mainstream   7.317806\n",
      "3             NEW FAMILIES           Budget   7.297321\n",
      "15          YOUNG FAMILIES           Budget   7.287201\n",
      "10   OLDER SINGLES/COUPLES       Mainstream   7.282116\n",
      "6           OLDER FAMILIES           Budget   7.269570\n",
      "17          YOUNG FAMILIES          Premium   7.266756\n",
      "7           OLDER FAMILIES       Mainstream   7.262395\n",
      "13                RETIREES       Mainstream   7.252262\n",
      "5             NEW FAMILIES          Premium   7.231655\n",
      "16          YOUNG FAMILIES       Mainstream   7.189025\n",
      "2   MIDAGE SINGLES/COUPLES          Premium   7.112056\n",
      "0   MIDAGE SINGLES/COUPLES           Budget   7.074661\n",
      "20   YOUNG SINGLES/COUPLES          Premium   6.629852\n",
      "18   YOUNG SINGLES/COUPLES           Budget   6.615624\n"
     ]
    }
   ],
   "source": [
    "# Calculate average purchase amount per transaction\n",
    "avg_purchase_by_segment = merged_data.groupby(['LIFESTAGE', 'PREMIUM_CUSTOMER'])['TOT_SALES'].mean().reset_index()\n",
    "\n",
    "# Sort to see which group spends the most on average per transaction\n",
    "avg_purchase_by_segment = avg_purchase_by_segment.sort_values(by='TOT_SALES', ascending=False)\n",
    "print(avg_purchase_by_segment)"
   ]
  },
  {
   "cell_type": "markdown",
   "id": "09a61178",
   "metadata": {
    "papermill": {
     "duration": 0.004808,
     "end_time": "2024-10-09T09:22:54.982889",
     "exception": false,
     "start_time": "2024-10-09T09:22:54.978081",
     "status": "completed"
    },
    "tags": []
   },
   "source": [
    "Insights:\n",
    "Top Average Purchase per Transaction:\n",
    "\n",
    "Midage Singles/Couples (Mainstream) and Young Singles/Couples (Mainstream) have the highest average purchases per transaction, both above 7.5.\n",
    "Premium Retirees and Older Singles/Couples also show high average purchases per transaction, indicating that they spend more on average when they shop.\n",
    "Budget and Premium Customers:\n",
    "\n",
    "Midage Singles/Couples (Budget) and Young Singles/Couples (Budget) have the lowest average purchases per transaction, suggesting that these groups make smaller purchases.\n",
    "Interestingly, Premium customers (especially Retirees and Older Singles/Couples) tend to have higher average transaction amounts, which is expected given the premium nature of the products.\n",
    "Segment Opportunity:\n",
    "\n",
    "Young Singles/Couples (Budget) have a lower average transaction value. This could be a segment to target with upselling techniques, like offering discounts on larger quantities or bundling.\n",
    "Strategic Recommendations:\n",
    "Boost Transactions Among Low Spenders:\n",
    "\n",
    "Target the Young Singles/Couples (Budget) and Midage Singles/Couples (Budget) segments with promotions aimed at increasing their average transaction size. Examples include offering deals on bulk purchases or loyalty points for larger transactions.\n",
    "Continue Engagement with Top-Spending Segments:\n",
    "\n",
    "Segments like Midage Singles/Couples (Mainstream) and Young Singles/Couples (Mainstream) spend more per transaction, indicating they are valuable customers. Loyalty programs and exclusive offers could be used to retain these segments.\n",
    "Cross-Sell Premium Products:\n",
    "\n",
    "Segments like Retirees (Premium) and Older Singles/Couples (Premium) show high average purchases per transaction. You could cross-sell premium products or offer new premium products to keep these customers engaged."
   ]
  },
  {
   "cell_type": "code",
   "execution_count": 9,
   "id": "76e802ef",
   "metadata": {
    "execution": {
     "iopub.execute_input": "2024-10-09T09:22:54.994492Z",
     "iopub.status.busy": "2024-10-09T09:22:54.993808Z",
     "iopub.status.idle": "2024-10-09T09:22:55.047739Z",
     "shell.execute_reply": "2024-10-09T09:22:55.046693Z"
    },
    "papermill": {
     "duration": 0.062693,
     "end_time": "2024-10-09T09:22:55.050414",
     "exception": false,
     "start_time": "2024-10-09T09:22:54.987721",
     "status": "completed"
    },
    "tags": []
   },
   "outputs": [
    {
     "name": "stdout",
     "output_type": "stream",
     "text": [
      "                 LIFESTAGE PREMIUM_CUSTOMER  PROD_QTY\n",
      "6           OLDER FAMILIES           Budget     45065\n",
      "13                RETIREES       Mainstream     40518\n",
      "19   YOUNG SINGLES/COUPLES       Mainstream     38632\n",
      "15          YOUNG FAMILIES           Budget     37111\n",
      "9    OLDER SINGLES/COUPLES           Budget     35220\n",
      "10   OLDER SINGLES/COUPLES       Mainstream     34997\n",
      "11   OLDER SINGLES/COUPLES          Premium     33986\n",
      "12                RETIREES           Budget     28764\n",
      "7           OLDER FAMILIES       Mainstream     27756\n",
      "16          YOUNG FAMILIES       Mainstream     25044\n",
      "14                RETIREES          Premium     24884\n",
      "1   MIDAGE SINGLES/COUPLES       Mainstream     22699\n",
      "17          YOUNG FAMILIES          Premium     22406\n",
      "8           OLDER FAMILIES          Premium     22171\n",
      "18   YOUNG SINGLES/COUPLES           Budget     16671\n",
      "2   MIDAGE SINGLES/COUPLES          Premium     15526\n",
      "20   YOUNG SINGLES/COUPLES          Premium     11331\n",
      "0   MIDAGE SINGLES/COUPLES           Budget      9496\n",
      "3             NEW FAMILIES           Budget      5571\n",
      "4             NEW FAMILIES       Mainstream      4319\n",
      "5             NEW FAMILIES          Premium      2957\n"
     ]
    }
   ],
   "source": [
    "# Calculate total quantity of products purchased by segment\n",
    "quantity_by_segment = merged_data.groupby(['LIFESTAGE', 'PREMIUM_CUSTOMER'])['PROD_QTY'].sum().reset_index()\n",
    "\n",
    "# Sort by total quantity purchased\n",
    "quantity_by_segment = quantity_by_segment.sort_values(by='PROD_QTY', ascending=False)\n",
    "print(quantity_by_segment)"
   ]
  },
  {
   "cell_type": "markdown",
   "id": "b5818ef9",
   "metadata": {
    "papermill": {
     "duration": 0.005051,
     "end_time": "2024-10-09T09:22:55.060731",
     "exception": false,
     "start_time": "2024-10-09T09:22:55.055680",
     "status": "completed"
    },
    "tags": []
   },
   "source": [
    "Key Observations:\n",
    "Top Product Purchasers:\n",
    "\n",
    "Older Families (Budget) top the list with 45,065 products purchased.\n",
    "Retirees (Mainstream) and Young Singles/Couples (Mainstream) follow with 40,518 and 38,632 products purchased, respectively.\n",
    "High Product Quantities in Budget Segments:\n",
    "\n",
    "Older Families (Budget) and Young Families (Budget) have high product purchases. This suggests that budget-conscious families tend to purchase in bulk or more frequently.\n",
    "Older Singles/Couples (Budget) also make significant product purchases, possibly due to larger household sizes.\n",
    "Mainstream vs. Premium Customers:\n",
    "\n",
    "While Mainstream customers, like Retirees (Mainstream) and Older Singles/Couples (Mainstream), make large product purchases, Premium customers purchase comparatively fewer products.\n",
    "For example, Older Singles/Couples (Premium) have 33,986 total purchases, compared to 40,518 for Retirees (Mainstream).\n",
    "New Families Segment:\n",
    "\n",
    "The New Families segment, regardless of their premium level, has the lowest total product quantities purchased. This could indicate a smaller household size or less frequent shopping habits.\n",
    "Strategic Recommendations:\n",
    "Increase Engagement with Premium Segments:\n",
    "\n",
    "Since Premium customers purchase fewer products on average than Mainstream or Budget customers, you could introduce tailored offers to increase their product quantities, such as exclusive deals or loyalty programs focused on bulk purchases.\n",
    "Upselling to Budget-Conscious Families:\n",
    "\n",
    "Given that Older Families (Budget) and Young Families (Budget) purchase in high quantities, cross-sell and upsell opportunities can be introduced by offering deals that bundle premium products with budget ones, encouraging them to try higher-end items.\n",
    "Boost Purchases Among New Families:\n",
    "\n",
    "The New Families segment shows the lowest total product purchases across all categories. Target this segment with family-oriented deals, larger pack sizes, or subscription options for frequently purchased items to drive up product quantity.\n",
    "Tailor Marketing Based on Product Quantity:\n",
    "\n",
    "Focus marketing efforts on top segments like Older Families (Budget) and Young Singles/Couples (Mainstream) who purchase large quantities. Promoting product bundles or offering discounts on bulk purchases may resonate well with these high-quantity buyers."
   ]
  },
  {
   "cell_type": "code",
   "execution_count": 10,
   "id": "46a19829",
   "metadata": {
    "execution": {
     "iopub.execute_input": "2024-10-09T09:22:55.072829Z",
     "iopub.status.busy": "2024-10-09T09:22:55.072096Z",
     "iopub.status.idle": "2024-10-09T09:22:55.105919Z",
     "shell.execute_reply": "2024-10-09T09:22:55.104679Z"
    },
    "papermill": {
     "duration": 0.042405,
     "end_time": "2024-10-09T09:22:55.108226",
     "exception": false,
     "start_time": "2024-10-09T09:22:55.065821",
     "status": "completed"
    },
    "tags": []
   },
   "outputs": [
    {
     "name": "stdout",
     "output_type": "stream",
     "text": [
      "             DATE  STORE_NBR  LYLTY_CARD_NBR  TXN_ID  PROD_NBR  \\\n",
      "69762  19-08-2018        226          226000  226201         4   \n",
      "69763  20-05-2019        226          226000  226210         4   \n",
      "\n",
      "                              PROD_NAME  PROD_QTY  TOT_SALES       LIFESTAGE  \\\n",
      "69762  Dorito Corn Chp     Supreme 380g       200      650.0  OLDER FAMILIES   \n",
      "69763  Dorito Corn Chp     Supreme 380g       200      650.0  OLDER FAMILIES   \n",
      "\n",
      "      PREMIUM_CUSTOMER  \n",
      "69762          Premium  \n",
      "69763          Premium  \n"
     ]
    }
   ],
   "source": [
    "# Check for outliers by looking at high product quantities\n",
    "outliers = merged_data[merged_data['PROD_QTY'] > 10]\n",
    "print(outliers)\n",
    "\n",
    "# If necessary, you can filter out these outliers:\n",
    "filtered_data = merged_data[merged_data['PROD_QTY'] <= 10]"
   ]
  },
  {
   "cell_type": "markdown",
   "id": "5bbb1200",
   "metadata": {
    "papermill": {
     "duration": 0.005029,
     "end_time": "2024-10-09T09:22:55.118499",
     "exception": false,
     "start_time": "2024-10-09T09:22:55.113470",
     "status": "completed"
    },
    "tags": []
   },
   "source": [
    "High Product Quantity:\n",
    "\n",
    "Both transactions have a PROD_QTY of 200, which is unusually high for a single purchase. Typically, most customers buy between 1 to 5 units of a product, but 200 units in a single transaction seems like an anomaly.\n",
    "Same Product, Customer, and Store:\n",
    "\n",
    "Both transactions are from STORE_NBR 226 and by the same LYLTY_CARD_NBR (226000), indicating that this may be a bulk purchase by a specific customer or a potential data entry error.\n",
    "Date and Pricing:\n",
    "\n",
    "The dates of these purchases are August 2018 and May 2019, spread across different time periods but involving the same product and sales amount."
   ]
  },
  {
   "cell_type": "code",
   "execution_count": 11,
   "id": "ba7b7f9a",
   "metadata": {
    "execution": {
     "iopub.execute_input": "2024-10-09T09:22:55.130504Z",
     "iopub.status.busy": "2024-10-09T09:22:55.130085Z",
     "iopub.status.idle": "2024-10-09T09:22:57.212381Z",
     "shell.execute_reply": "2024-10-09T09:22:57.211304Z"
    },
    "papermill": {
     "duration": 2.091602,
     "end_time": "2024-10-09T09:22:57.215304",
     "exception": false,
     "start_time": "2024-10-09T09:22:55.123702",
     "status": "completed"
    },
    "tags": []
   },
   "outputs": [
    {
     "data": {
      "image/png": "[encoded data removed]",
      "text/plain": [
       "<Figure size 1000x600 with 1 Axes>"
      ]
     },
     "metadata": {},
     "output_type": "display_data"
    }
   ],
   "source": [
    "import matplotlib.pyplot as plt\n",
    "import seaborn as sns\n",
    "\n",
    "# Plot total sales by customer segment\n",
    "plt.figure(figsize=(10,6))\n",
    "sns.barplot(data=sales_by_segment, x='LIFESTAGE', y='TOT_SALES', hue='PREMIUM_CUSTOMER')\n",
    "plt.title('Total Sales by Lifestage and Premium Customer')\n",
    "plt.xticks(rotation=45)\n",
    "plt.show()"
   ]
  }
 ],
 "metadata": {
  "kaggle": {
   "accelerator": "none",
   "dataSources": [
    {
     "datasetId": 5781740,
     "sourceId": 9500471,
     "sourceType": "datasetVersion"
    }
   ],
   "dockerImageVersionId": 30761,
   "isGpuEnabled": false,
   "isInternetEnabled": true,
   "language": "python",
   "sourceType": "notebook"
  },
  "kernelspec": {
   "display_name": "Python 3",
   "language": "python",
   "name": "python3"
  },
  "language_info": {
   "codemirror_mode": {
    "name": "ipython",
    "version": 3
   },
   "file_extension": ".py",
   "mimetype": "text/x-python",
   "name": "python",
   "nbconvert_exporter": "python",
   "pygments_lexer": "ipython3",
   "version": "3.10.14"
  },
  "papermill": {
   "default_parameters": {},
   "duration": 21.664997,
   "end_time": "2024-10-09T09:22:57.843659",
   "environment_variables": {},
   "exception": null,
   "input_path": "__notebook__.ipynb",
   "output_path": "__notebook__.ipynb",
   "parameters": {},
   "start_time": "2024-10-09T09:22:36.178662",
   "version": "2.6.0"
  }
 },
 "nbformat": 4,
 "nbformat_minor": 5
}
